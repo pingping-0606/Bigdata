{
  "cells": [
    {
      "cell_type": "markdown",
      "metadata": {
        "id": "view-in-github",
        "colab_type": "text"
      },
      "source": [
        "<a href=\"https://colab.research.google.com/github/pingping-0606/Bigdata/blob/main/NLP_Practice.ipynb\" target=\"_parent\"><img src=\"https://colab.research.google.com/assets/colab-badge.svg\" alt=\"Open In Colab\"/></a>"
      ]
    },
    {
      "cell_type": "markdown",
      "source": [
        "ชื่อ ณัชชา ประทุมชาติ 653020205-1"
      ],
      "metadata": {
        "id": "hf2Msw6tQ_Rs"
      }
    },
    {
      "cell_type": "markdown",
      "metadata": {
        "id": "r04VJAMBcWkJ"
      },
      "source": [
        "1) ให้ลบเครื่องหมายวรรคตอนออกจากเพลงต่อไปนี้ให้หมด (punctuation) เช่น , หรือ !"
      ]
    },
    {
      "cell_type": "code",
      "execution_count": null,
      "metadata": {
        "colab": {
          "base_uri": "https://localhost:8080/"
        },
        "id": "WeMXdvpXZytk",
        "outputId": "be4e3fee-a943-4c89-f897-612feefbfe5d"
      },
      "outputs": [
        {
          "name": "stdout",
          "output_type": "stream",
          "text": [
            "Fly me to the moon\n",
            "Let me play among the stars        \n",
            "Let me see what spring is like on        \n",
            "A-Jupiter and Mars\n",
            "In other words, hold my hand        \n",
            "In other words, baby, kiss me        \n",
            "Fill my heart with song and let me sing forevermore        \n",
            "You are all I long for        \n",
            "All I worship and adore        \n",
            "In other words, please be true        \n",
            "In other words, I love You        \n",
            "Fill my heart with song        \n",
            "Let me sing forevermore        \n",
            "You are all I long for, all I worship and adore        \n",
            "In other words, please be true        \n",
            "In other words        \n",
            "In other words        \n",
            "I LOVE YOU!\n"
          ]
        }
      ],
      "source": [
        "song = \"Fly me to the moon\\nLet me play among the stars\\\n",
        "        \\nLet me see what spring is like on\\\n",
        "        \\nA-Jupiter and Mars\\nIn other words, hold my hand\\\n",
        "        \\nIn other words, baby, kiss me\\\n",
        "        \\nFill my heart with song and let me sing forevermore\\\n",
        "        \\nYou are all I long for\\\n",
        "        \\nAll I worship and adore\\\n",
        "        \\nIn other words, please be true\\\n",
        "        \\nIn other words, I love You\\\n",
        "        \\nFill my heart with song\\\n",
        "        \\nLet me sing forevermore\\\n",
        "        \\nYou are all I long for, all I worship and adore\\\n",
        "        \\nIn other words, please be true\\\n",
        "        \\nIn other words\\\n",
        "        \\nIn other words\\\n",
        "        \\nI LOVE YOU!\"\n",
        "print(song)"
      ]
    },
    {
      "cell_type": "code",
      "execution_count": 6,
      "metadata": {
        "id": "y0mqDt1eikAd",
        "colab": {
          "base_uri": "https://localhost:8080/"
        },
        "outputId": "c2c1a6fa-bbae-4be3-b4d0-670d1304cd4c"
      },
      "outputs": [
        {
          "output_type": "stream",
          "name": "stdout",
          "text": [
            "Fly me to the moon\n",
            "Let me play among the stars        \n",
            "Let me see what spring is like on        \n",
            "AJupiter and Mars\n",
            "In other words hold my hand        \n",
            "In other words baby kiss me        \n",
            "Fill my heart with song and let me sing forevermore        \n",
            "You are all I long for        \n",
            "All I worship and adore        \n",
            "In other words please be true        \n",
            "In other words I love You        \n",
            "Fill my heart with song        \n",
            "Let me sing forevermore        \n",
            "You are all I long for all I worship and adore        \n",
            "In other words please be true        \n",
            "In other words        \n",
            "In other words        \n",
            "I LOVE YOU\n"
          ]
        }
      ],
      "source": [
        "# your code here\n",
        "import re\n",
        "song = \"Fly me to the moon\\nLet me play among the stars\\\n",
        "        \\nLet me see what spring is like on\\\n",
        "        \\nA-Jupiter and Mars\\nIn other words, hold my hand\\\n",
        "        \\nIn other words, baby, kiss me\\\n",
        "        \\nFill my heart with song and let me sing forevermore\\\n",
        "        \\nYou are all I long for\\\n",
        "        \\nAll I worship and adore\\\n",
        "        \\nIn other words, please be true\\\n",
        "        \\nIn other words, I love You\\\n",
        "        \\nFill my heart with song\\\n",
        "        \\nLet me sing forevermore\\\n",
        "        \\nYou are all I long for, all I worship and adore\\\n",
        "        \\nIn other words, please be true\\\n",
        "        \\nIn other words\\\n",
        "        \\nIn other words\\\n",
        "        \\nI LOVE YOU!\"\n",
        "\n",
        "song = re.sub(r'[^\\w\\s]', '', song)\n",
        "print(song)"
      ]
    },
    {
      "cell_type": "markdown",
      "metadata": {
        "id": "6RN2pwEKdjdv"
      },
      "source": [
        "2) นับคำว่ารัก (love) ทั้งหมดในเพลงดังกล่าว รวมคำที่เขียนด้วยตัวอักษรทั้งพิมพ์ใหญ่และพิมพ์เล็ก"
      ]
    },
    {
      "cell_type": "code",
      "execution_count": 5,
      "metadata": {
        "id": "bNof03xUigoj",
        "colab": {
          "base_uri": "https://localhost:8080/"
        },
        "outputId": "fa19b79a-772f-4e15-9d64-6dd28bec0143"
      },
      "outputs": [
        {
          "output_type": "stream",
          "name": "stdout",
          "text": [
            "คำว่า Love, LOVE และ love ทั้งหมดมี 2 คำ\n"
          ]
        }
      ],
      "source": [
        "# your code here\n",
        "count = song.lower().count(\"love\")\n",
        "print(f\"คำว่า Love, LOVE และ love ทั้งหมดมี {count} คำ\")"
      ]
    },
    {
      "cell_type": "markdown",
      "metadata": {
        "id": "gVxf2cBzgPhN"
      },
      "source": [
        "3) จากข้อมูลต่อไปนี้ สร้างคอลัมน์ใหม่ ได้แก่ Firstname, Lastname, Weekday และ Country\n",
        "* Firstname แยกชื่อจาก Fullname\n",
        "* Lastname แยกนามสกุลจาก Fullname\n",
        "* Weekday วันเกิดคือวันอะไร (Monday - Sunday)\n",
        "* Country แยกประเทศจาก Address"
      ]
    },
    {
      "cell_type": "code",
      "execution_count": 7,
      "metadata": {
        "colab": {
          "base_uri": "https://localhost:8080/",
          "height": 175
        },
        "id": "DoTKusS3gLrq",
        "outputId": "816acb0b-0df3-4f56-8b3c-d83fc0008be8"
      },
      "outputs": [
        {
          "output_type": "execute_result",
          "data": {
            "text/plain": [
              "        Fullname   Birthdate                                       Address\n",
              "0  Pitch Wiratch  15/05/2015   555 KKU Village, Khon Kaen, Thailand, 40000\n",
              "1     Sam Sonite  10/03/1910  13-15 avenue de la Liberté, Luxembourg, 1931\n",
              "2   Mickey Mouse  18/11/1928         1375 Lake Buena Vista, FL, USA, 32830\n",
              "3   Felonius Gru  28/09/1960      1234 Albuquerque, New Mexico, USA, 87777"
            ],
            "text/html": [
              "\n",
              "  <div id=\"df-8c655ce0-9ef9-4aae-acbf-2f658bf527e3\" class=\"colab-df-container\">\n",
              "    <div>\n",
              "<style scoped>\n",
              "    .dataframe tbody tr th:only-of-type {\n",
              "        vertical-align: middle;\n",
              "    }\n",
              "\n",
              "    .dataframe tbody tr th {\n",
              "        vertical-align: top;\n",
              "    }\n",
              "\n",
              "    .dataframe thead th {\n",
              "        text-align: right;\n",
              "    }\n",
              "</style>\n",
              "<table border=\"1\" class=\"dataframe\">\n",
              "  <thead>\n",
              "    <tr style=\"text-align: right;\">\n",
              "      <th></th>\n",
              "      <th>Fullname</th>\n",
              "      <th>Birthdate</th>\n",
              "      <th>Address</th>\n",
              "    </tr>\n",
              "  </thead>\n",
              "  <tbody>\n",
              "    <tr>\n",
              "      <th>0</th>\n",
              "      <td>Pitch Wiratch</td>\n",
              "      <td>15/05/2015</td>\n",
              "      <td>555 KKU Village, Khon Kaen, Thailand, 40000</td>\n",
              "    </tr>\n",
              "    <tr>\n",
              "      <th>1</th>\n",
              "      <td>Sam Sonite</td>\n",
              "      <td>10/03/1910</td>\n",
              "      <td>13-15 avenue de la Liberté, Luxembourg, 1931</td>\n",
              "    </tr>\n",
              "    <tr>\n",
              "      <th>2</th>\n",
              "      <td>Mickey Mouse</td>\n",
              "      <td>18/11/1928</td>\n",
              "      <td>1375 Lake Buena Vista, FL, USA, 32830</td>\n",
              "    </tr>\n",
              "    <tr>\n",
              "      <th>3</th>\n",
              "      <td>Felonius Gru</td>\n",
              "      <td>28/09/1960</td>\n",
              "      <td>1234 Albuquerque, New Mexico, USA, 87777</td>\n",
              "    </tr>\n",
              "  </tbody>\n",
              "</table>\n",
              "</div>\n",
              "    <div class=\"colab-df-buttons\">\n",
              "\n",
              "  <div class=\"colab-df-container\">\n",
              "    <button class=\"colab-df-convert\" onclick=\"convertToInteractive('df-8c655ce0-9ef9-4aae-acbf-2f658bf527e3')\"\n",
              "            title=\"Convert this dataframe to an interactive table.\"\n",
              "            style=\"display:none;\">\n",
              "\n",
              "  <svg xmlns=\"http://www.w3.org/2000/svg\" height=\"24px\" viewBox=\"0 -960 960 960\">\n",
              "    <path d=\"M120-120v-720h720v720H120Zm60-500h600v-160H180v160Zm220 220h160v-160H400v160Zm0 220h160v-160H400v160ZM180-400h160v-160H180v160Zm440 0h160v-160H620v160ZM180-180h160v-160H180v160Zm440 0h160v-160H620v160Z\"/>\n",
              "  </svg>\n",
              "    </button>\n",
              "\n",
              "  <style>\n",
              "    .colab-df-container {\n",
              "      display:flex;\n",
              "      gap: 12px;\n",
              "    }\n",
              "\n",
              "    .colab-df-convert {\n",
              "      background-color: #E8F0FE;\n",
              "      border: none;\n",
              "      border-radius: 50%;\n",
              "      cursor: pointer;\n",
              "      display: none;\n",
              "      fill: #1967D2;\n",
              "      height: 32px;\n",
              "      padding: 0 0 0 0;\n",
              "      width: 32px;\n",
              "    }\n",
              "\n",
              "    .colab-df-convert:hover {\n",
              "      background-color: #E2EBFA;\n",
              "      box-shadow: 0px 1px 2px rgba(60, 64, 67, 0.3), 0px 1px 3px 1px rgba(60, 64, 67, 0.15);\n",
              "      fill: #174EA6;\n",
              "    }\n",
              "\n",
              "    .colab-df-buttons div {\n",
              "      margin-bottom: 4px;\n",
              "    }\n",
              "\n",
              "    [theme=dark] .colab-df-convert {\n",
              "      background-color: #3B4455;\n",
              "      fill: #D2E3FC;\n",
              "    }\n",
              "\n",
              "    [theme=dark] .colab-df-convert:hover {\n",
              "      background-color: #434B5C;\n",
              "      box-shadow: 0px 1px 3px 1px rgba(0, 0, 0, 0.15);\n",
              "      filter: drop-shadow(0px 1px 2px rgba(0, 0, 0, 0.3));\n",
              "      fill: #FFFFFF;\n",
              "    }\n",
              "  </style>\n",
              "\n",
              "    <script>\n",
              "      const buttonEl =\n",
              "        document.querySelector('#df-8c655ce0-9ef9-4aae-acbf-2f658bf527e3 button.colab-df-convert');\n",
              "      buttonEl.style.display =\n",
              "        google.colab.kernel.accessAllowed ? 'block' : 'none';\n",
              "\n",
              "      async function convertToInteractive(key) {\n",
              "        const element = document.querySelector('#df-8c655ce0-9ef9-4aae-acbf-2f658bf527e3');\n",
              "        const dataTable =\n",
              "          await google.colab.kernel.invokeFunction('convertToInteractive',\n",
              "                                                    [key], {});\n",
              "        if (!dataTable) return;\n",
              "\n",
              "        const docLinkHtml = 'Like what you see? Visit the ' +\n",
              "          '<a target=\"_blank\" href=https://colab.research.google.com/notebooks/data_table.ipynb>data table notebook</a>'\n",
              "          + ' to learn more about interactive tables.';\n",
              "        element.innerHTML = '';\n",
              "        dataTable['output_type'] = 'display_data';\n",
              "        await google.colab.output.renderOutput(dataTable, element);\n",
              "        const docLink = document.createElement('div');\n",
              "        docLink.innerHTML = docLinkHtml;\n",
              "        element.appendChild(docLink);\n",
              "      }\n",
              "    </script>\n",
              "  </div>\n",
              "\n",
              "\n",
              "<div id=\"df-2a6cf8b1-cc91-43d0-b8f0-d6d2abecbc57\">\n",
              "  <button class=\"colab-df-quickchart\" onclick=\"quickchart('df-2a6cf8b1-cc91-43d0-b8f0-d6d2abecbc57')\"\n",
              "            title=\"Suggest charts\"\n",
              "            style=\"display:none;\">\n",
              "\n",
              "<svg xmlns=\"http://www.w3.org/2000/svg\" height=\"24px\"viewBox=\"0 0 24 24\"\n",
              "     width=\"24px\">\n",
              "    <g>\n",
              "        <path d=\"M19 3H5c-1.1 0-2 .9-2 2v14c0 1.1.9 2 2 2h14c1.1 0 2-.9 2-2V5c0-1.1-.9-2-2-2zM9 17H7v-7h2v7zm4 0h-2V7h2v10zm4 0h-2v-4h2v4z\"/>\n",
              "    </g>\n",
              "</svg>\n",
              "  </button>\n",
              "\n",
              "<style>\n",
              "  .colab-df-quickchart {\n",
              "      --bg-color: #E8F0FE;\n",
              "      --fill-color: #1967D2;\n",
              "      --hover-bg-color: #E2EBFA;\n",
              "      --hover-fill-color: #174EA6;\n",
              "      --disabled-fill-color: #AAA;\n",
              "      --disabled-bg-color: #DDD;\n",
              "  }\n",
              "\n",
              "  [theme=dark] .colab-df-quickchart {\n",
              "      --bg-color: #3B4455;\n",
              "      --fill-color: #D2E3FC;\n",
              "      --hover-bg-color: #434B5C;\n",
              "      --hover-fill-color: #FFFFFF;\n",
              "      --disabled-bg-color: #3B4455;\n",
              "      --disabled-fill-color: #666;\n",
              "  }\n",
              "\n",
              "  .colab-df-quickchart {\n",
              "    background-color: var(--bg-color);\n",
              "    border: none;\n",
              "    border-radius: 50%;\n",
              "    cursor: pointer;\n",
              "    display: none;\n",
              "    fill: var(--fill-color);\n",
              "    height: 32px;\n",
              "    padding: 0;\n",
              "    width: 32px;\n",
              "  }\n",
              "\n",
              "  .colab-df-quickchart:hover {\n",
              "    background-color: var(--hover-bg-color);\n",
              "    box-shadow: 0 1px 2px rgba(60, 64, 67, 0.3), 0 1px 3px 1px rgba(60, 64, 67, 0.15);\n",
              "    fill: var(--button-hover-fill-color);\n",
              "  }\n",
              "\n",
              "  .colab-df-quickchart-complete:disabled,\n",
              "  .colab-df-quickchart-complete:disabled:hover {\n",
              "    background-color: var(--disabled-bg-color);\n",
              "    fill: var(--disabled-fill-color);\n",
              "    box-shadow: none;\n",
              "  }\n",
              "\n",
              "  .colab-df-spinner {\n",
              "    border: 2px solid var(--fill-color);\n",
              "    border-color: transparent;\n",
              "    border-bottom-color: var(--fill-color);\n",
              "    animation:\n",
              "      spin 1s steps(1) infinite;\n",
              "  }\n",
              "\n",
              "  @keyframes spin {\n",
              "    0% {\n",
              "      border-color: transparent;\n",
              "      border-bottom-color: var(--fill-color);\n",
              "      border-left-color: var(--fill-color);\n",
              "    }\n",
              "    20% {\n",
              "      border-color: transparent;\n",
              "      border-left-color: var(--fill-color);\n",
              "      border-top-color: var(--fill-color);\n",
              "    }\n",
              "    30% {\n",
              "      border-color: transparent;\n",
              "      border-left-color: var(--fill-color);\n",
              "      border-top-color: var(--fill-color);\n",
              "      border-right-color: var(--fill-color);\n",
              "    }\n",
              "    40% {\n",
              "      border-color: transparent;\n",
              "      border-right-color: var(--fill-color);\n",
              "      border-top-color: var(--fill-color);\n",
              "    }\n",
              "    60% {\n",
              "      border-color: transparent;\n",
              "      border-right-color: var(--fill-color);\n",
              "    }\n",
              "    80% {\n",
              "      border-color: transparent;\n",
              "      border-right-color: var(--fill-color);\n",
              "      border-bottom-color: var(--fill-color);\n",
              "    }\n",
              "    90% {\n",
              "      border-color: transparent;\n",
              "      border-bottom-color: var(--fill-color);\n",
              "    }\n",
              "  }\n",
              "</style>\n",
              "\n",
              "  <script>\n",
              "    async function quickchart(key) {\n",
              "      const quickchartButtonEl =\n",
              "        document.querySelector('#' + key + ' button');\n",
              "      quickchartButtonEl.disabled = true;  // To prevent multiple clicks.\n",
              "      quickchartButtonEl.classList.add('colab-df-spinner');\n",
              "      try {\n",
              "        const charts = await google.colab.kernel.invokeFunction(\n",
              "            'suggestCharts', [key], {});\n",
              "      } catch (error) {\n",
              "        console.error('Error during call to suggestCharts:', error);\n",
              "      }\n",
              "      quickchartButtonEl.classList.remove('colab-df-spinner');\n",
              "      quickchartButtonEl.classList.add('colab-df-quickchart-complete');\n",
              "    }\n",
              "    (() => {\n",
              "      let quickchartButtonEl =\n",
              "        document.querySelector('#df-2a6cf8b1-cc91-43d0-b8f0-d6d2abecbc57 button');\n",
              "      quickchartButtonEl.style.display =\n",
              "        google.colab.kernel.accessAllowed ? 'block' : 'none';\n",
              "    })();\n",
              "  </script>\n",
              "</div>\n",
              "\n",
              "  <div id=\"id_9e8ab45d-8f33-4028-bb14-4f1aca4da50f\">\n",
              "    <style>\n",
              "      .colab-df-generate {\n",
              "        background-color: #E8F0FE;\n",
              "        border: none;\n",
              "        border-radius: 50%;\n",
              "        cursor: pointer;\n",
              "        display: none;\n",
              "        fill: #1967D2;\n",
              "        height: 32px;\n",
              "        padding: 0 0 0 0;\n",
              "        width: 32px;\n",
              "      }\n",
              "\n",
              "      .colab-df-generate:hover {\n",
              "        background-color: #E2EBFA;\n",
              "        box-shadow: 0px 1px 2px rgba(60, 64, 67, 0.3), 0px 1px 3px 1px rgba(60, 64, 67, 0.15);\n",
              "        fill: #174EA6;\n",
              "      }\n",
              "\n",
              "      [theme=dark] .colab-df-generate {\n",
              "        background-color: #3B4455;\n",
              "        fill: #D2E3FC;\n",
              "      }\n",
              "\n",
              "      [theme=dark] .colab-df-generate:hover {\n",
              "        background-color: #434B5C;\n",
              "        box-shadow: 0px 1px 3px 1px rgba(0, 0, 0, 0.15);\n",
              "        filter: drop-shadow(0px 1px 2px rgba(0, 0, 0, 0.3));\n",
              "        fill: #FFFFFF;\n",
              "      }\n",
              "    </style>\n",
              "    <button class=\"colab-df-generate\" onclick=\"generateWithVariable('df')\"\n",
              "            title=\"Generate code using this dataframe.\"\n",
              "            style=\"display:none;\">\n",
              "\n",
              "  <svg xmlns=\"http://www.w3.org/2000/svg\" height=\"24px\"viewBox=\"0 0 24 24\"\n",
              "       width=\"24px\">\n",
              "    <path d=\"M7,19H8.4L18.45,9,17,7.55,7,17.6ZM5,21V16.75L18.45,3.32a2,2,0,0,1,2.83,0l1.4,1.43a1.91,1.91,0,0,1,.58,1.4,1.91,1.91,0,0,1-.58,1.4L9.25,21ZM18.45,9,17,7.55Zm-12,3A5.31,5.31,0,0,0,4.9,8.1,5.31,5.31,0,0,0,1,6.5,5.31,5.31,0,0,0,4.9,4.9,5.31,5.31,0,0,0,6.5,1,5.31,5.31,0,0,0,8.1,4.9,5.31,5.31,0,0,0,12,6.5,5.46,5.46,0,0,0,6.5,12Z\"/>\n",
              "  </svg>\n",
              "    </button>\n",
              "    <script>\n",
              "      (() => {\n",
              "      const buttonEl =\n",
              "        document.querySelector('#id_9e8ab45d-8f33-4028-bb14-4f1aca4da50f button.colab-df-generate');\n",
              "      buttonEl.style.display =\n",
              "        google.colab.kernel.accessAllowed ? 'block' : 'none';\n",
              "\n",
              "      buttonEl.onclick = () => {\n",
              "        google.colab.notebook.generateWithVariable('df');\n",
              "      }\n",
              "      })();\n",
              "    </script>\n",
              "  </div>\n",
              "\n",
              "    </div>\n",
              "  </div>\n"
            ],
            "application/vnd.google.colaboratory.intrinsic+json": {
              "type": "dataframe",
              "variable_name": "df",
              "summary": "{\n  \"name\": \"df\",\n  \"rows\": 4,\n  \"fields\": [\n    {\n      \"column\": \"Fullname\",\n      \"properties\": {\n        \"dtype\": \"string\",\n        \"num_unique_values\": 4,\n        \"samples\": [\n          \"Sam Sonite\",\n          \"Felonius Gru\",\n          \"Pitch Wiratch\"\n        ],\n        \"semantic_type\": \"\",\n        \"description\": \"\"\n      }\n    },\n    {\n      \"column\": \"Birthdate\",\n      \"properties\": {\n        \"dtype\": \"object\",\n        \"num_unique_values\": 4,\n        \"samples\": [\n          \"10/03/1910\",\n          \"28/09/1960\",\n          \"15/05/2015\"\n        ],\n        \"semantic_type\": \"\",\n        \"description\": \"\"\n      }\n    },\n    {\n      \"column\": \"Address\",\n      \"properties\": {\n        \"dtype\": \"string\",\n        \"num_unique_values\": 4,\n        \"samples\": [\n          \"13-15 avenue de la Libert\\u00e9, Luxembourg, 1931\",\n          \"1234 Albuquerque, New Mexico, USA, 87777\",\n          \"555 KKU Village, Khon Kaen, Thailand, 40000\"\n        ],\n        \"semantic_type\": \"\",\n        \"description\": \"\"\n      }\n    }\n  ]\n}"
            }
          },
          "metadata": {},
          "execution_count": 7
        }
      ],
      "source": [
        "import pandas as pd\n",
        "df = pd.DataFrame({\"Fullname\": [\"Pitch Wiratch\", \"Sam Sonite\", \"Mickey Mouse\", \"Felonius Gru\"],\n",
        "                   \"Birthdate\": [\"15/05/2015\", \"10/03/1910\", \"18/11/1928\", \"28/09/1960\"],\n",
        "                   \"Address\": [\"555 KKU Village, Khon Kaen, Thailand, 40000\",\n",
        "                               \"13-15 avenue de la Liberté, Luxembourg, 1931\",\n",
        "                               \"1375 Lake Buena Vista, FL, USA, 32830\",\n",
        "                               \"1234 Albuquerque, New Mexico, USA, 87777\"]})\n",
        "df"
      ]
    },
    {
      "cell_type": "code",
      "source": [
        "# your code here\n",
        "# 1.Firstname แยกชื่อจาก Fullname\n",
        "df[['Firstname', 'Lastname']] = df['Fullname'].str.split(' ', expand=True)\n",
        "df['Firstname']"
      ],
      "metadata": {
        "colab": {
          "base_uri": "https://localhost:8080/",
          "height": 209
        },
        "id": "PdirrukCUSOF",
        "outputId": "f75156bb-ce99-4e8a-f0ee-4128df07f886"
      },
      "execution_count": 11,
      "outputs": [
        {
          "output_type": "execute_result",
          "data": {
            "text/plain": [
              "0       Pitch\n",
              "1         Sam\n",
              "2      Mickey\n",
              "3    Felonius\n",
              "Name: Firstname, dtype: object"
            ],
            "text/html": [
              "<div>\n",
              "<style scoped>\n",
              "    .dataframe tbody tr th:only-of-type {\n",
              "        vertical-align: middle;\n",
              "    }\n",
              "\n",
              "    .dataframe tbody tr th {\n",
              "        vertical-align: top;\n",
              "    }\n",
              "\n",
              "    .dataframe thead th {\n",
              "        text-align: right;\n",
              "    }\n",
              "</style>\n",
              "<table border=\"1\" class=\"dataframe\">\n",
              "  <thead>\n",
              "    <tr style=\"text-align: right;\">\n",
              "      <th></th>\n",
              "      <th>Firstname</th>\n",
              "    </tr>\n",
              "  </thead>\n",
              "  <tbody>\n",
              "    <tr>\n",
              "      <th>0</th>\n",
              "      <td>Pitch</td>\n",
              "    </tr>\n",
              "    <tr>\n",
              "      <th>1</th>\n",
              "      <td>Sam</td>\n",
              "    </tr>\n",
              "    <tr>\n",
              "      <th>2</th>\n",
              "      <td>Mickey</td>\n",
              "    </tr>\n",
              "    <tr>\n",
              "      <th>3</th>\n",
              "      <td>Felonius</td>\n",
              "    </tr>\n",
              "  </tbody>\n",
              "</table>\n",
              "</div><br><label><b>dtype:</b> object</label>"
            ]
          },
          "metadata": {},
          "execution_count": 11
        }
      ]
    },
    {
      "cell_type": "code",
      "source": [
        "# 2.Lastname แยกนามสกุลจาก Fullname\n",
        "df[['Firstname', 'Lastname']] = df['Fullname'].str.split(' ', expand=True)\n",
        "df['Lastname']\n"
      ],
      "metadata": {
        "colab": {
          "base_uri": "https://localhost:8080/",
          "height": 209
        },
        "id": "yWMnBzZeVQBa",
        "outputId": "e2e4453c-3ea6-41d4-be77-f9f8174f5a4d"
      },
      "execution_count": 15,
      "outputs": [
        {
          "output_type": "execute_result",
          "data": {
            "text/plain": [
              "0    Wiratch\n",
              "1     Sonite\n",
              "2      Mouse\n",
              "3        Gru\n",
              "Name: Lastname, dtype: object"
            ],
            "text/html": [
              "<div>\n",
              "<style scoped>\n",
              "    .dataframe tbody tr th:only-of-type {\n",
              "        vertical-align: middle;\n",
              "    }\n",
              "\n",
              "    .dataframe tbody tr th {\n",
              "        vertical-align: top;\n",
              "    }\n",
              "\n",
              "    .dataframe thead th {\n",
              "        text-align: right;\n",
              "    }\n",
              "</style>\n",
              "<table border=\"1\" class=\"dataframe\">\n",
              "  <thead>\n",
              "    <tr style=\"text-align: right;\">\n",
              "      <th></th>\n",
              "      <th>Lastname</th>\n",
              "    </tr>\n",
              "  </thead>\n",
              "  <tbody>\n",
              "    <tr>\n",
              "      <th>0</th>\n",
              "      <td>Wiratch</td>\n",
              "    </tr>\n",
              "    <tr>\n",
              "      <th>1</th>\n",
              "      <td>Sonite</td>\n",
              "    </tr>\n",
              "    <tr>\n",
              "      <th>2</th>\n",
              "      <td>Mouse</td>\n",
              "    </tr>\n",
              "    <tr>\n",
              "      <th>3</th>\n",
              "      <td>Gru</td>\n",
              "    </tr>\n",
              "  </tbody>\n",
              "</table>\n",
              "</div><br><label><b>dtype:</b> object</label>"
            ]
          },
          "metadata": {},
          "execution_count": 15
        }
      ]
    },
    {
      "cell_type": "code",
      "source": [
        "# 3. Weekday วันเกิดคือวันอะไร (Monday - Sunday)\n",
        "from datetime import datetime\n",
        "\n",
        "def find_weekday(date_str):\n",
        "  date_obj = datetime.strptime(date_str, \"%d/%m/%Y\")\n",
        "  weekday = date_obj.strftime(\"%A\")\n",
        "  return weekday\n",
        "\n",
        "df['Weekday'] = df['Birthdate'].apply(find_weekday)\n",
        "df['Weekday']\n"
      ],
      "metadata": {
        "colab": {
          "base_uri": "https://localhost:8080/",
          "height": 209
        },
        "id": "3sRQauemYrve",
        "outputId": "54870bdd-d388-4601-ef25-e7a5225ddd34"
      },
      "execution_count": 17,
      "outputs": [
        {
          "output_type": "execute_result",
          "data": {
            "text/plain": [
              "0       Friday\n",
              "1     Thursday\n",
              "2       Sunday\n",
              "3    Wednesday\n",
              "Name: Weekday, dtype: object"
            ],
            "text/html": [
              "<div>\n",
              "<style scoped>\n",
              "    .dataframe tbody tr th:only-of-type {\n",
              "        vertical-align: middle;\n",
              "    }\n",
              "\n",
              "    .dataframe tbody tr th {\n",
              "        vertical-align: top;\n",
              "    }\n",
              "\n",
              "    .dataframe thead th {\n",
              "        text-align: right;\n",
              "    }\n",
              "</style>\n",
              "<table border=\"1\" class=\"dataframe\">\n",
              "  <thead>\n",
              "    <tr style=\"text-align: right;\">\n",
              "      <th></th>\n",
              "      <th>Weekday</th>\n",
              "    </tr>\n",
              "  </thead>\n",
              "  <tbody>\n",
              "    <tr>\n",
              "      <th>0</th>\n",
              "      <td>Friday</td>\n",
              "    </tr>\n",
              "    <tr>\n",
              "      <th>1</th>\n",
              "      <td>Thursday</td>\n",
              "    </tr>\n",
              "    <tr>\n",
              "      <th>2</th>\n",
              "      <td>Sunday</td>\n",
              "    </tr>\n",
              "    <tr>\n",
              "      <th>3</th>\n",
              "      <td>Wednesday</td>\n",
              "    </tr>\n",
              "  </tbody>\n",
              "</table>\n",
              "</div><br><label><b>dtype:</b> object</label>"
            ]
          },
          "metadata": {},
          "execution_count": 17
        }
      ]
    },
    {
      "cell_type": "code",
      "source": [
        "# 4. Country แยกประเทศจาก Address\n",
        "df['Country'] = df['Address'].str.split(', ').str[-2]\n",
        "df['Country']\n"
      ],
      "metadata": {
        "colab": {
          "base_uri": "https://localhost:8080/",
          "height": 209
        },
        "id": "PSkkKCmTZOtp",
        "outputId": "8cceff1b-74d1-40be-8a8b-985238220a8f"
      },
      "execution_count": 18,
      "outputs": [
        {
          "output_type": "execute_result",
          "data": {
            "text/plain": [
              "0      Thailand\n",
              "1    Luxembourg\n",
              "2           USA\n",
              "3           USA\n",
              "Name: Country, dtype: object"
            ],
            "text/html": [
              "<div>\n",
              "<style scoped>\n",
              "    .dataframe tbody tr th:only-of-type {\n",
              "        vertical-align: middle;\n",
              "    }\n",
              "\n",
              "    .dataframe tbody tr th {\n",
              "        vertical-align: top;\n",
              "    }\n",
              "\n",
              "    .dataframe thead th {\n",
              "        text-align: right;\n",
              "    }\n",
              "</style>\n",
              "<table border=\"1\" class=\"dataframe\">\n",
              "  <thead>\n",
              "    <tr style=\"text-align: right;\">\n",
              "      <th></th>\n",
              "      <th>Country</th>\n",
              "    </tr>\n",
              "  </thead>\n",
              "  <tbody>\n",
              "    <tr>\n",
              "      <th>0</th>\n",
              "      <td>Thailand</td>\n",
              "    </tr>\n",
              "    <tr>\n",
              "      <th>1</th>\n",
              "      <td>Luxembourg</td>\n",
              "    </tr>\n",
              "    <tr>\n",
              "      <th>2</th>\n",
              "      <td>USA</td>\n",
              "    </tr>\n",
              "    <tr>\n",
              "      <th>3</th>\n",
              "      <td>USA</td>\n",
              "    </tr>\n",
              "  </tbody>\n",
              "</table>\n",
              "</div><br><label><b>dtype:</b> object</label>"
            ]
          },
          "metadata": {},
          "execution_count": 18
        }
      ]
    },
    {
      "cell_type": "markdown",
      "metadata": {
        "id": "s3J7WMDJkpS_"
      },
      "source": [
        "4) ให้คัดแยกอีเมลทั้งหมดจากข้อความต่อไปนี้"
      ]
    },
    {
      "cell_type": "code",
      "execution_count": 19,
      "metadata": {
        "colab": {
          "base_uri": "https://localhost:8080/"
        },
        "id": "hA_3EDQClP1L",
        "outputId": "fb56c80a-488f-4d1f-9813-0a526697ff45"
      },
      "outputs": [
        {
          "output_type": "stream",
          "name": "stdout",
          "text": [
            "In the heart of the city, Emily navigated daily chaos in her bustling office. \n",
            "Every morning, Emily boarded a bus from redline@bus.com, finding solace in the routine. \n",
            "Amid the rhythmic motion of the bus, she exchanged tired smiles with fellow passengers, \n",
            "whose email addresses are jason.patel@gmail.com, redpanda123@hotmail.com, and chachacha555@kkumail.com. \n",
            "Conversations buzzed about projects and deadlines, creating a unique camaraderie.\n"
          ]
        }
      ],
      "source": [
        "text = \"In the heart of the city, Emily navigated daily chaos in her bustling office. \\nEvery morning, Emily boarded a bus from redline@bus.com, finding solace in the routine. \\nAmid the rhythmic motion of the bus, she exchanged tired smiles with fellow passengers, \\nwhose email addresses are jason.patel@gmail.com, redpanda123@hotmail.com, and chachacha555@kkumail.com. \\nConversations buzzed about projects and deadlines, creating a unique camaraderie.\"\n",
        "print(text)"
      ]
    },
    {
      "cell_type": "code",
      "execution_count": 22,
      "metadata": {
        "id": "Hi0RM9v1oDR3",
        "colab": {
          "base_uri": "https://localhost:8080/"
        },
        "outputId": "1f9fe98a-369e-4c67-9bdc-789e81d3099f"
      },
      "outputs": [
        {
          "output_type": "stream",
          "name": "stdout",
          "text": [
            "['redline@bus.com', 'jason.patel@gmail.com', 'redpanda123@hotmail.com', 'chachacha555@kkumail.com']\n"
          ]
        }
      ],
      "source": [
        "# your code here\n",
        "import re\n",
        "emails = re.findall(r'\\b[A-Za-z0-9._%+-]+@[A-Za-z0-9.-]+\\.[A-Z|a-z]{2,}\\b', text)\n",
        "print(emails)\n"
      ]
    },
    {
      "cell_type": "markdown",
      "metadata": {
        "id": "bSsqAVJWuHpR"
      },
      "source": [
        "5) สร้าง word tokens และ 2-gram และ 3-gram tokens จากข้อความต่อไปนี้"
      ]
    },
    {
      "cell_type": "code",
      "execution_count": null,
      "metadata": {
        "colab": {
          "base_uri": "https://localhost:8080/"
        },
        "id": "0qswOPb3uOxf",
        "outputId": "4a80ba5c-d861-4d56-9c0c-ea943165af91"
      },
      "outputs": [
        {
          "name": "stdout",
          "output_type": "stream",
          "text": [
            "A day without a friend is like a pot without a single drop of honey.\n"
          ]
        }
      ],
      "source": [
        "pooh = \"A day without a friend is like a pot without a single drop of honey.\"\n",
        "print(pooh)"
      ]
    },
    {
      "cell_type": "code",
      "source": [
        "# your code here\n",
        "from nltk import word_tokenize\n",
        "from nltk import ngrams\n",
        "import nltk\n",
        "nltk.download('punkt')\n",
        "\n",
        "pooh = \"A day without a friend is like a pot without a single drop of honey.\"\n",
        "\n",
        "# Word tokens\n",
        "tokens = word_tokenize(pooh)\n",
        "print(\"Word tokens:\", tokens)\n",
        "\n",
        "# 2-gram tokens\n",
        "bigrams = list(ngrams(tokens, 2))\n",
        "print(\"2-gram tokens:\", bigrams)\n",
        "\n",
        "# 3-gram tokens\n",
        "trigrams = list(ngrams(tokens, 3))\n",
        "print(\"3-gram tokens:\", trigrams)\n"
      ],
      "metadata": {
        "colab": {
          "base_uri": "https://localhost:8080/"
        },
        "id": "XJy75B6FcVxB",
        "outputId": "78b95109-09e3-4ccd-dc83-ec6cb53561d2"
      },
      "execution_count": 25,
      "outputs": [
        {
          "output_type": "stream",
          "name": "stdout",
          "text": [
            "Word tokens: ['A', 'day', 'without', 'a', 'friend', 'is', 'like', 'a', 'pot', 'without', 'a', 'single', 'drop', 'of', 'honey', '.']\n",
            "2-gram tokens: [('A', 'day'), ('day', 'without'), ('without', 'a'), ('a', 'friend'), ('friend', 'is'), ('is', 'like'), ('like', 'a'), ('a', 'pot'), ('pot', 'without'), ('without', 'a'), ('a', 'single'), ('single', 'drop'), ('drop', 'of'), ('of', 'honey'), ('honey', '.')]\n",
            "3-gram tokens: [('A', 'day', 'without'), ('day', 'without', 'a'), ('without', 'a', 'friend'), ('a', 'friend', 'is'), ('friend', 'is', 'like'), ('is', 'like', 'a'), ('like', 'a', 'pot'), ('a', 'pot', 'without'), ('pot', 'without', 'a'), ('without', 'a', 'single'), ('a', 'single', 'drop'), ('single', 'drop', 'of'), ('drop', 'of', 'honey'), ('of', 'honey', '.')]\n"
          ]
        },
        {
          "output_type": "stream",
          "name": "stderr",
          "text": [
            "[nltk_data] Downloading package punkt to /root/nltk_data...\n",
            "[nltk_data]   Package punkt is already up-to-date!\n"
          ]
        }
      ]
    },
    {
      "cell_type": "markdown",
      "metadata": {
        "id": "4OafOHTeVTYw"
      },
      "source": [
        "6) ให้ทำการ stem และ lemmatize ข้อความต่อไปนี้"
      ]
    },
    {
      "cell_type": "code",
      "execution_count": null,
      "metadata": {
        "colab": {
          "base_uri": "https://localhost:8080/"
        },
        "outputId": "4a80ba5c-d861-4d56-9c0c-ea943165af91",
        "id": "sh1sTfwmVTYx"
      },
      "outputs": [
        {
          "name": "stdout",
          "output_type": "stream",
          "text": [
            "A day without a friend is like a pot without a single drop of honey.\n"
          ]
        }
      ],
      "source": [
        "pooh = \"A day without a friend is like a pot without a single drop of honey.\"\n",
        "print(pooh)"
      ]
    },
    {
      "cell_type": "code",
      "execution_count": 27,
      "metadata": {
        "id": "KAeoOV_2VTYy",
        "colab": {
          "base_uri": "https://localhost:8080/"
        },
        "outputId": "b1ac8715-4b22-410e-c9cf-a9809466c663"
      },
      "outputs": [
        {
          "output_type": "stream",
          "name": "stdout",
          "text": [
            "Stemmed words: ['a', 'day', 'without', 'a', 'friend', 'is', 'like', 'a', 'pot', 'without', 'a', 'singl', 'drop', 'of', 'honey', '.']\n",
            "Lemmatized words: ['A', 'day', 'without', 'a', 'friend', 'is', 'like', 'a', 'pot', 'without', 'a', 'single', 'drop', 'of', 'honey', '.']\n"
          ]
        },
        {
          "output_type": "stream",
          "name": "stderr",
          "text": [
            "[nltk_data] Downloading package wordnet to /root/nltk_data...\n",
            "[nltk_data]   Package wordnet is already up-to-date!\n"
          ]
        }
      ],
      "source": [
        "# your code here\n",
        "from nltk.stem import PorterStemmer\n",
        "from nltk.stem import WordNetLemmatizer\n",
        "nltk.download('wordnet')\n",
        "\n",
        "pooh = \"A day without a friend is like a pot without a single drop of honey.\"\n",
        "\n",
        "# Stemming\n",
        "stemmer = PorterStemmer()\n",
        "stemmed_words = [stemmer.stem(word) for word in word_tokenize(pooh)]\n",
        "print(\"Stemmed words:\", stemmed_words)\n",
        "\n",
        "# Lemmatization\n",
        "lemmatizer = WordNetLemmatizer()\n",
        "lemmatized_words = [lemmatizer.lemmatize(word) for word in word_tokenize(pooh)]\n",
        "print(\"Lemmatized words:\", lemmatized_words)"
      ]
    }
  ],
  "metadata": {
    "colab": {
      "provenance": [],
      "include_colab_link": true
    },
    "kernelspec": {
      "display_name": "Python 3 (ipykernel)",
      "language": "python",
      "name": "python3"
    },
    "language_info": {
      "codemirror_mode": {
        "name": "ipython",
        "version": 3
      },
      "file_extension": ".py",
      "mimetype": "text/x-python",
      "name": "python",
      "nbconvert_exporter": "python",
      "pygments_lexer": "ipython3",
      "version": "3.8.8"
    }
  },
  "nbformat": 4,
  "nbformat_minor": 0
}